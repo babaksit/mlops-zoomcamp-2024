{
 "cells": [
  {
   "cell_type": "code",
   "execution_count": 1,
   "metadata": {},
   "outputs": [],
   "source": [
    "import pandas as pd\n",
    "from sklearn.feature_extraction import DictVectorizer \n",
    "from sklearn.linear_model import LinearRegression\n",
    "from sklearn.metrics import mean_squared_error"
   ]
  },
  {
   "cell_type": "code",
   "execution_count": 2,
   "metadata": {},
   "outputs": [
    {
     "data": {
      "text/plain": [
       "19"
      ]
     },
     "execution_count": 2,
     "metadata": {},
     "output_type": "execute_result"
    }
   ],
   "source": [
    "#01\n",
    "df = pd.read_parquet(\"data/yellow_tripdata_2023-01.parquet\")\n",
    "len(df.columns)"
   ]
  },
  {
   "cell_type": "code",
   "execution_count": 3,
   "metadata": {},
   "outputs": [
    {
     "data": {
      "text/plain": [
       "42.59435124195458"
      ]
     },
     "execution_count": 3,
     "metadata": {},
     "output_type": "execute_result"
    }
   ],
   "source": [
    "#02\n",
    "trip_duration = df['tpep_dropoff_datetime'] - df['tpep_pickup_datetime'] \n",
    "df['trip_duration_minutes'] = trip_duration.dt.total_seconds() / 60\n",
    "df['trip_duration_minutes'].std()"
   ]
  },
  {
   "cell_type": "code",
   "execution_count": 4,
   "metadata": {},
   "outputs": [
    {
     "data": {
      "text/plain": [
       "98.1220282212598"
      ]
     },
     "execution_count": 4,
     "metadata": {},
     "output_type": "execute_result"
    }
   ],
   "source": [
    "#03\n",
    "df_filtered = df.loc[(df['trip_duration_minutes'] >= 1) & (df['trip_duration_minutes'] <= 60)].copy()\n",
    "len(df_filtered)/len(df)*100"
   ]
  },
  {
   "cell_type": "code",
   "execution_count": 5,
   "metadata": {},
   "outputs": [
    {
     "data": {
      "text/plain": [
       "515"
      ]
     },
     "execution_count": 5,
     "metadata": {},
     "output_type": "execute_result"
    }
   ],
   "source": [
    "#04\n",
    "categorical = ['PULocationID', 'DOLocationID']\n",
    "df_filtered[categorical] = df_filtered[categorical].astype(str)\n",
    "train_dicts = df_filtered[categorical].to_dict(orient='records')\n",
    "dv = DictVectorizer()\n",
    "X_train = dv.fit_transform(train_dicts)\n",
    "X_train.shape[1]"
   ]
  },
  {
   "cell_type": "code",
   "execution_count": 6,
   "metadata": {},
   "outputs": [
    {
     "data": {
      "text/plain": [
       "7.649261958701973"
      ]
     },
     "execution_count": 6,
     "metadata": {},
     "output_type": "execute_result"
    }
   ],
   "source": [
    "#05\n",
    "y_train = df_filtered['trip_duration_minutes'].values\n",
    "lr = LinearRegression()\n",
    "lr.fit(X_train, y_train)\n",
    "y_pred = lr.predict(X_train)\n",
    "mean_squared_error(y_pred=y_pred,y_true=y_train,squared=False)"
   ]
  },
  {
   "cell_type": "code",
   "execution_count": 7,
   "metadata": {},
   "outputs": [
    {
     "data": {
      "text/plain": [
       "7.811816864052284"
      ]
     },
     "execution_count": 7,
     "metadata": {},
     "output_type": "execute_result"
    }
   ],
   "source": [
    "#06\n",
    "df = pd.read_parquet(\"data/yellow_tripdata_2023-02.parquet\")\n",
    "trip_duration = df['tpep_dropoff_datetime'] - df['tpep_pickup_datetime'] \n",
    "df['trip_duration_minutes'] = trip_duration.dt.total_seconds() / 60\n",
    "\n",
    "df_filtered = df.loc[(df['trip_duration_minutes'] >= 1) & (df['trip_duration_minutes'] <= 60)].copy()\n",
    "categorical = ['PULocationID', 'DOLocationID']\n",
    "df_filtered[categorical] = df_filtered[categorical].astype(str)\n",
    "train_dicts = df_filtered[categorical].to_dict(orient='records')\n",
    "X_val = dv.transform(train_dicts)\n",
    "y_val = df_filtered['trip_duration_minutes'].values\n",
    "\n",
    "y_pred = lr.predict(X_val)\n",
    "mean_squared_error(y_pred=y_pred,y_true=y_val,squared=False)"
   ]
  }
 ],
 "metadata": {
  "kernelspec": {
   "display_name": "AIaaS",
   "language": "python",
   "name": "python3"
  },
  "language_info": {
   "codemirror_mode": {
    "name": "ipython",
    "version": 3
   },
   "file_extension": ".py",
   "mimetype": "text/x-python",
   "name": "python",
   "nbconvert_exporter": "python",
   "pygments_lexer": "ipython3",
   "version": "3.10.9"
  }
 },
 "nbformat": 4,
 "nbformat_minor": 2
}
